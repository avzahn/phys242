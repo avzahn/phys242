{
 "cells": [
  {
   "cell_type": "code",
   "execution_count": 1,
   "metadata": {
    "collapsed": false
   },
   "outputs": [],
   "source": [
    "from propagator import wavefunction\n",
    "import numpy as np\n",
    "\n",
    "T0 = 2*np.pi\n",
    "dt = T0/128.\n",
    "nx = 600\n",
    "xi = -4.\n",
    "xf = 4.\n",
    "a = 2.\n",
    "\n",
    "psi = wavefunction(xi=xi,xf=xf, dt=dt, nx=nx, ti=0.,tf=T0)\n",
    "\n",
    "psi0 = psi.gaussian(2,.75)\n",
    "psi.set_initial_state(psi0)\n",
    "\n",
    "\n",
    "psi.harmonic_propagator()\n",
    "psi.run_renormalize()"
   ]
  },
  {
   "cell_type": "code",
   "execution_count": 5,
   "metadata": {
    "collapsed": false
   },
   "outputs": [
    {
     "name": "stdout",
     "output_type": "stream",
     "text": [
      "Using matplotlib backend: Qt5Agg\n",
      "Populating the interactive namespace from numpy and matplotlib\n"
     ]
    },
    {
     "name": "stderr",
     "output_type": "stream",
     "text": [
      "Exception TypeError: TypeError(\"'instancemethod' object is not connected\",) in <bound method TimerQT.__del__ of <matplotlib.backends.backend_qt5.TimerQT object at 0x7f78799415d0>> ignored\n"
     ]
    }
   ],
   "source": [
    "%pylab\n",
    "\n",
    "# First set up the figure, the axis, and the plot element we want to animate\n",
    "fig = plt.figure()\n",
    "ax = plt.axes(xlim=(psi.xi, psi.xf), ylim=(0, 1))\n",
    "line, = ax.plot([], [], lw=2)\n",
    "\n",
    "ax.plot(psi.x,.5*(psi.x)**2)\n",
    "#ax.plot(psi.x, np.abs(psi.arr[0])**2)   \n",
    "\n",
    "# initialization function: plot the background of each frame\n",
    "def init():\n",
    "    line.set_data([], [])\n",
    "    return line,\n",
    "\n",
    "# animation function.  This is called sequentially\n",
    "x = psi.x\n",
    "\n",
    "def animate(i):\n",
    "    y = np.abs(psi.arr[i])**2\n",
    "    line.set_data(x, y)\n",
    "    return line,\n",
    "\n",
    "from matplotlib import animation\n",
    "\n",
    "# call the animator.  blit=True means only re-draw the parts that have changed.\n",
    "anim = animation.FuncAnimation(fig, animate, init_func=init,frames=len(psi.arr), interval=20, blit=True)"
   ]
  },
  {
   "cell_type": "code",
   "execution_count": 3,
   "metadata": {
    "collapsed": false
   },
   "outputs": [
    {
     "name": "stderr",
     "output_type": "stream",
     "text": [
      "TypeError: TypeError(\"'instancemethod' object is not connected\",) in <bound method TimerQT.__del__ of <matplotlib.backends.backend_qt5.TimerQT object at 0x7f7879de10d0>> ignored\n"
     ]
    }
   ],
   "source": [
    "psi.save(\"test\",\"test.h5\")"
   ]
  },
  {
   "cell_type": "code",
   "execution_count": 6,
   "metadata": {
    "collapsed": false
   },
   "outputs": [
    {
     "name": "stderr",
     "output_type": "stream",
     "text": [
      "Exception TypeError: TypeError(\"'instancemethod' object is not connected\",) in <bound method TimerQT.__del__ of <matplotlib.backends.backend_qt5.TimerQT object at 0x7f787972e350>> ignored\n"
     ]
    }
   ],
   "source": [
    "anim.save('test.mp4')"
   ]
  },
  {
   "cell_type": "code",
   "execution_count": null,
   "metadata": {
    "collapsed": true
   },
   "outputs": [],
   "source": []
  }
 ],
 "metadata": {
  "kernelspec": {
   "display_name": "Python 2",
   "language": "python",
   "name": "python2"
  },
  "language_info": {
   "codemirror_mode": {
    "name": "ipython",
    "version": 2
   },
   "file_extension": ".py",
   "mimetype": "text/x-python",
   "name": "python",
   "nbconvert_exporter": "python",
   "pygments_lexer": "ipython2",
   "version": "2.7.9"
  }
 },
 "nbformat": 4,
 "nbformat_minor": 0
}
