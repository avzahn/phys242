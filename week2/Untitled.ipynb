{
 "cells": [
  {
   "cell_type": "code",
   "execution_count": 1,
   "metadata": {
    "collapsed": false
   },
   "outputs": [
    {
     "name": "stdout",
     "output_type": "stream",
     "text": [
      "Using matplotlib backend: Qt4Agg\n",
      "Populating the interactive namespace from numpy and matplotlib\n"
     ]
    }
   ],
   "source": [
    "%pylab\n",
    "from propagator import harmonic_oscillator\n",
    "import numpy as np\n",
    "\n",
    "T0 = 2*np.pi\n",
    "dt = T0/128.\n",
    "nx = 600\n",
    "xi = -4.\n",
    "xf = 4.\n",
    "a = 2.\n",
    "\n",
    "psi = harmonic_oscillator(xi=xi,xf=xf, dt=dt, nx=nx, ti=0.,tf=T0)\n",
    "\n",
    "psi0 = psi.gaussian(2,.75)\n",
    "psi.set_initial_state(psi0)\n",
    "\n",
    "psi.run()\n",
    "\n",
    "\n"
   ]
  },
  {
   "cell_type": "code",
   "execution_count": null,
   "metadata": {
    "collapsed": true
   },
   "outputs": [],
   "source": [
    "# First set up the figure, the axis, and the plot element we want to animate\n",
    "fig = plt.figure()\n",
    "ax = plt.axes(xlim=(psi.xi, psi.xf), ylim=(0, 1))\n",
    "line, = ax.plot([], [], lw=2)\n",
    "\n",
    "ax.plot(psi.x,.5*(psi.x)**2)\n",
    "#ax.plot(psi.x, np.abs(psi.arr[0])**2)   \n",
    "\n",
    "# initialization function: plot the background of each frame\n",
    "def init():\n",
    "    line.set_data([], [])\n",
    "    return line,\n",
    "\n",
    "# animation function.  This is called sequentially\n",
    "x = psi.x\n",
    "\n",
    "def animate(i):\n",
    "    y = np.abs(psi.arr[i])**2\n",
    "    line.set_data(x, y)\n",
    "    return line,\n",
    "\n",
    "from matplotlib import animation\n",
    "\n",
    "# call the animator.  blit=True means only re-draw the parts that have changed.\n",
    "anim = animation.FuncAnimation(fig, animate, init_func=init,frames=len(psi.arr), interval=20, blit=True)\n"
   ]
  },
  {
   "cell_type": "code",
   "execution_count": 2,
   "metadata": {
    "collapsed": false,
    "scrolled": false
   },
   "outputs": [],
   "source": [
    "fr,e = psi.energy_spectrum()"
   ]
  }
 ],
 "metadata": {
  "kernelspec": {
   "display_name": "Python 2",
   "language": "python",
   "name": "python2"
  },
  "language_info": {
   "codemirror_mode": {
    "name": "ipython",
    "version": 2
   },
   "file_extension": ".py",
   "mimetype": "text/x-python",
   "name": "python",
   "nbconvert_exporter": "python",
   "pygments_lexer": "ipython2",
   "version": "2.7.6"
  }
 },
 "nbformat": 4,
 "nbformat_minor": 0
}
